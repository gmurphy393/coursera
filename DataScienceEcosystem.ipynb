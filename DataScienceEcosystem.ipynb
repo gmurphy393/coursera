{
 "cells": [
  {
   "cell_type": "markdown",
   "id": "bbd8810d-68ec-4038-9a59-2deac01e8395",
   "metadata": {},
   "source": [
    "# Data Science Tools and Ecosystem"
   ]
  },
  {
   "cell_type": "markdown",
   "id": "fcf03219-792c-4360-97ab-da38b8072a6d",
   "metadata": {},
   "source": [
    "In this notebook, Data Science Tools and Ecosystem are summarized."
   ]
  },
  {
   "cell_type": "markdown",
   "id": "4ad95114-1051-4606-91ac-9111c85a03a6",
   "metadata": {},
   "source": [
    "**Objectives:**\n",
    "- List popular languages for Data Science\n",
    "- List some of the commonly used libraries for Data Science\n",
    "- List some of the popular environments for Data Science\n",
    "- Demonstrate some simple arithmetic expressions"
   ]
  },
  {
   "cell_type": "markdown",
   "id": "184daa43-cb14-47be-a589-e553a3b24417",
   "metadata": {},
   "source": [
    "Some of the popular languages that Data Scientists use are:\n",
    "\n",
    "1. Python\n",
    "2. R\n",
    "3. SQL"
   ]
  },
  {
   "cell_type": "markdown",
   "id": "edc795b7-9c41-4f1d-aeae-0708cd93c395",
   "metadata": {},
   "source": [
    "Some of the commonly used libraries used by Data Scientists include:\n",
    "\n",
    "1. Pandas\n",
    "2. Matplotlib\n",
    "3. SciPy"
   ]
  },
  {
   "cell_type": "markdown",
   "id": "36b496d7-d0c2-4a3a-bcd3-99eeeb8cd705",
   "metadata": {},
   "source": [
    "|Data Science Tools|\n",
    "|---|\n",
    "|JupyterLab|\n",
    "|RStudio|\n",
    "|Visual Studio Code|"
   ]
  },
  {
   "cell_type": "markdown",
   "id": "e24ee2bb-4ec0-4cf5-8696-87bac98dd242",
   "metadata": {},
   "source": [
    "### Below are a few examples of evaluating arithmetic expressions in Python"
   ]
  },
  {
   "cell_type": "code",
   "execution_count": 5,
   "id": "4482afb2-ecff-498b-9d03-14e1a3c78440",
   "metadata": {},
   "outputs": [
    {
     "data": {
      "text/plain": [
       "17"
      ]
     },
     "execution_count": 5,
     "metadata": {},
     "output_type": "execute_result"
    }
   ],
   "source": [
    "# This is a simple arithmetic expression to multiply then add integers\n",
    "(3*4)+5"
   ]
  },
  {
   "cell_type": "code",
   "execution_count": 4,
   "id": "38aae279-5615-4408-aa86-a0fc44ff5637",
   "metadata": {},
   "outputs": [
    {
     "data": {
      "text/plain": [
       "3.3333333333333335"
      ]
     },
     "execution_count": 4,
     "metadata": {},
     "output_type": "execute_result"
    }
   ],
   "source": [
    "# This will convert 200 minutes to hours by dividing by 60\n",
    "200/60"
   ]
  },
  {
   "cell_type": "markdown",
   "id": "e51541d6-5833-4ea1-8b31-950c053fd80f",
   "metadata": {},
   "source": [
    "## Author\n",
    "Georgina Murphy"
   ]
  }
 ],
 "metadata": {
  "kernelspec": {
   "display_name": "Python 3 (ipykernel)",
   "language": "python",
   "name": "python3"
  },
  "language_info": {
   "codemirror_mode": {
    "name": "ipython",
    "version": 3
   },
   "file_extension": ".py",
   "mimetype": "text/x-python",
   "name": "python",
   "nbconvert_exporter": "python",
   "pygments_lexer": "ipython3",
   "version": "3.11.9"
  }
 },
 "nbformat": 4,
 "nbformat_minor": 5
}
